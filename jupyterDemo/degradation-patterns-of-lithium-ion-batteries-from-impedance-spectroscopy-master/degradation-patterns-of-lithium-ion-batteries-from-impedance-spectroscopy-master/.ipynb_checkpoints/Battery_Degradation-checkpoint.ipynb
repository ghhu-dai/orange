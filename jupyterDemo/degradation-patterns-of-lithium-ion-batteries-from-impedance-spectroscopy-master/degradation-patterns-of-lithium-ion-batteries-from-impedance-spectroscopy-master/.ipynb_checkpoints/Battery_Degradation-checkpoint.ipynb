{
 "cells": [
  {
   "cell_type": "code",
   "execution_count": 56,
   "metadata": {},
   "outputs": [],
   "source": [
    "import numpy as np  # numpy用于数值运算\n",
    "import pandas as pd  # pandas用于数据处理和分析\n",
    "import matplotlib.pyplot as plt  # 绘图\n",
    "import seaborn as sns  # 基于matplotlib的可视化库\n",
    "%matplotlib inline\n",
    "from sklearn.preprocessing import StandardScaler,MinMaxScaler # 标准化和归一化\n",
    "from sklearn.gaussian_process import GaussianProcessRegressor  # 高斯过程回归\n",
    "from sklearn.gaussian_process.kernels import ConstantKernel,RBF,GenericKernelMixin  # kernel 函数\n",
    "from sklearn.svm import SVR # 支持向量机？\n",
    "from sklearn.linear_model import LinearRegression # 线性回归模型\n",
    "import os # 导入操作系统\n",
    "from sklearn.model_selection import GridSearchCV,LeaveOneGroupOut  # 网格搜索交叉验证，交叉验证方法，配合使用优化超参数\n",
    "from sklearn.metrics import r2_score,mean_squared_error,mean_absolute_error  #  三个评估指标"
   ]
  },
  {
   "cell_type": "code",
   "execution_count": 6,
   "metadata": {},
   "outputs": [],
   "source": [
    "def create_data(EIS_files,Capacity_files,Battery_Num):\n",
    "    \n",
    "    dataset=np.zeros(shape=(1,122))\n",
    "        \n",
    "    features_path='Alpha Lee Paper/EIS Data/EIS data/'+str(EIS_files)\n",
    "    targets_path='Alpha Lee Paper/Capacity Data/Capacity data/'+str(Capacity_files)\n",
    "    features_data=pd.read_csv(features_path,delimiter='\\t')\n",
    "    targets_data=pd.read_csv(targets_path,delimiter='\\t')\n",
    "    \n",
    "    Data1=[]\n",
    "        \n",
    "    for i in range(int(features_data['cycle number'].min()),int(features_data['cycle number'].max())+1):\n",
    "        try:\n",
    "            features=features_data[features_data[features_data.columns[1]]==i]\n",
    "            features=features.iloc[:,3:5]\n",
    "            re=features.iloc[:,0]\n",
    "            im=features.iloc[:,1]\n",
    "        \n",
    "            capacity=[targets_data[targets_data['cycle number']==i]['Capacity/mA.h'].values[-1]]\n",
    "            tot=np.concatenate([re,im,capacity,[Battery_Num]],axis=0)\n",
    "        except:\n",
    "            continue\n",
    "        #print(tot.shape)\n",
    "        Data1.append(tot)\n",
    "    Data1=np.array(Data1)\n",
    "    print(Data1.shape)\n",
    "    dataset=np.concatenate([dataset,Data1],axis=0)\n",
    "    dataset=pd.DataFrame(dataset)\n",
    "    \n",
    "    \n",
    "    columns=[]\n",
    "    for i in range(1,61):\n",
    "        columns.append('Real Z'+str(i))\n",
    "    \n",
    "    for i in range(1,61):\n",
    "        columns.append('Imaginary Z'+str(i))   \n",
    "    \n",
    "    columns.extend(['Capacity','Battery Number'])\n",
    "    \n",
    "    \n",
    "    dataset.columns=columns\n",
    "    \n",
    "    return dataset.iloc[1:,:]"
   ]
  },
  {
   "cell_type": "code",
   "execution_count": null,
   "metadata": {},
   "outputs": [],
   "source": []
  },
  {
   "cell_type": "code",
   "execution_count": 7,
   "metadata": {},
   "outputs": [
    {
     "ename": "FileNotFoundError",
     "evalue": "[WinError 3] 系统找不到指定的路径。: 'Alpha Lee Paper/EIS data/EIS Data'",
     "output_type": "error",
     "traceback": [
      "\u001b[1;31m------------------------------------------------------------\u001b[0m",
      "\u001b[1;31mFileNotFoundError\u001b[0m          Traceback (most recent call last)",
      "Cell \u001b[1;32mIn[7], line 1\u001b[0m\n\u001b[1;32m----> 1\u001b[0m EIS_Data\u001b[38;5;241m=\u001b[39m\u001b[43mos\u001b[49m\u001b[38;5;241;43m.\u001b[39;49m\u001b[43mlistdir\u001b[49m\u001b[43m(\u001b[49m\u001b[43mpath\u001b[49m\u001b[38;5;241;43m=\u001b[39;49m\u001b[38;5;124;43m'\u001b[39;49m\u001b[38;5;124;43mAlpha Lee Paper/EIS data/EIS Data\u001b[39;49m\u001b[38;5;124;43m'\u001b[39;49m\u001b[43m)\u001b[49m\n\u001b[0;32m      2\u001b[0m Capacity_Data\u001b[38;5;241m=\u001b[39mos\u001b[38;5;241m.\u001b[39mlistdir(path\u001b[38;5;241m=\u001b[39m\u001b[38;5;124m'\u001b[39m\u001b[38;5;124mAlpha Lee Paper/Capacity data/Capacity Data\u001b[39m\u001b[38;5;124m'\u001b[39m)\n\u001b[0;32m      3\u001b[0m Capacity_Data\u001b[38;5;241m=\u001b[39mCapacity_Data[\u001b[38;5;241m1\u001b[39m:]\n",
      "\u001b[1;31mFileNotFoundError\u001b[0m: [WinError 3] 系统找不到指定的路径。: 'Alpha Lee Paper/EIS data/EIS Data'"
     ]
    }
   ],
   "source": [
    "EIS_Data=os.listdir(path='Alpha Lee Paper/EIS data/EIS Data')\n",
    "Capacity_Data=os.listdir(path='Alpha Lee Paper/Capacity data/Capacity Data')\n",
    "Capacity_Data=Capacity_Data[1:]"
   ]
  },
  {
   "cell_type": "code",
   "execution_count": null,
   "metadata": {},
   "outputs": [],
   "source": [
    "plt.figure(figsize=(15,10))\n",
    "plt.ylim([15,45])\n",
    "plt.title(label='Battery Capacity Data')\n",
    "plt.xlabel('Cycle Number')\n",
    "plt.ylabel('Capacity / mA.h')\n",
    "for i in Capacity_Data: \n",
    "    path='Alpha Lee Paper/Capacity data/Capacity Data/'+i\n",
    "    cap=pd.read_csv(path,delimiter='\\t')\n",
    "    Y_cap=[]\n",
    "    for j in range(1,int(cap['cycle number'].max()+1)):\n",
    "        capacity=[cap[cap['cycle number']==j]['Capacity/mA.h'].values[-1]]\n",
    "        Y_cap.append(capacity)\n",
    "    plt.plot(Y_cap,label=i[14:19])\n",
    "    \n",
    "plt.legend()\n",
    "plt.savefig('Battery_Capacity_Data.jpeg',dpi=1200)"
   ]
  },
  {
   "cell_type": "code",
   "execution_count": null,
   "metadata": {},
   "outputs": [],
   "source": []
  },
  {
   "cell_type": "code",
   "execution_count": 16,
   "metadata": {},
   "outputs": [
    {
     "ename": "NameError",
     "evalue": "name 'EIS_Data' is not defined",
     "output_type": "error",
     "traceback": [
      "\u001b[1;31m------------------------------------------------------------\u001b[0m",
      "\u001b[1;31mNameError\u001b[0m                  Traceback (most recent call last)",
      "Cell \u001b[1;32mIn[16], line 2\u001b[0m\n\u001b[0;32m      1\u001b[0m EIS_State5\u001b[38;5;241m=\u001b[39m[]\n\u001b[1;32m----> 2\u001b[0m \u001b[38;5;28;01mfor\u001b[39;00m i \u001b[38;5;129;01min\u001b[39;00m \u001b[43mEIS_Data\u001b[49m:\n\u001b[0;32m      3\u001b[0m     \u001b[38;5;28;01mif\u001b[39;00m i[\u001b[38;5;241m10\u001b[39m:\u001b[38;5;241m12\u001b[39m]\u001b[38;5;241m==\u001b[39m\u001b[38;5;124m'\u001b[39m\u001b[38;5;124mV_\u001b[39m\u001b[38;5;124m'\u001b[39m:\n\u001b[0;32m      4\u001b[0m         EIS_State5\u001b[38;5;241m.\u001b[39mappend(i)\n",
      "\u001b[1;31mNameError\u001b[0m: name 'EIS_Data' is not defined"
     ]
    }
   ],
   "source": [
    "EIS_State5=[]\n",
    "for i in EIS_Data:\n",
    "    if i[10:12]=='V_':\n",
    "        EIS_State5.append(i)\n",
    "\n",
    "EIS_State5"
   ]
  },
  {
   "cell_type": "code",
   "execution_count": null,
   "metadata": {},
   "outputs": [],
   "source": [
    "C1_25=create_data(EIS_State5[0],Capacity_Data[0],1)\n",
    "C2_25=create_data(EIS_State5[1],Capacity_Data[1],2)\n",
    "C3_25=create_data(EIS_State5[2],Capacity_Data[2],3)\n",
    "C4_25=create_data(EIS_State5[3],Capacity_Data[3],4)\n",
    "C5_25=create_data(EIS_State5[4],Capacity_Data[4],5)\n",
    "C6_25=create_data(EIS_State5[5],Capacity_Data[5],6)\n",
    "C7_25=create_data(EIS_State5[6],Capacity_Data[6],7)\n",
    "C8_25=create_data(EIS_State5[7],Capacity_Data[7],8)"
   ]
  },
  {
   "cell_type": "code",
   "execution_count": null,
   "metadata": {},
   "outputs": [],
   "source": [
    "Training_Data=pd.concat([C1_25,C2_25,C3_25,C4_25],ignore_index=True)"
   ]
  },
  {
   "cell_type": "code",
   "execution_count": null,
   "metadata": {},
   "outputs": [],
   "source": [
    "Training_Data"
   ]
  },
  {
   "cell_type": "markdown",
   "metadata": {},
   "source": [
    "# Remove Unwanted Input"
   ]
  },
  {
   "cell_type": "code",
   "execution_count": null,
   "metadata": {},
   "outputs": [],
   "source": [
    "\n",
    "Diff=np.diff(C7_25['Capacity'],n=1)\n",
    "Limit=np.argmin(Diff[20:])+20\n",
    "C7_25.drop(index=range(Limit,C7_25.shape[0]+1),inplace=True)\n",
    "Diff=np.diff(C5_25['Capacity'],n=1)\n",
    "Limit=np.argmin(Diff[20:])+20\n",
    "C5_25.drop(index=range(Limit,C5_25.shape[0]+1),inplace=True)"
   ]
  },
  {
   "cell_type": "markdown",
   "metadata": {},
   "source": [
    "# Training and Testing"
   ]
  },
  {
   "cell_type": "code",
   "execution_count": null,
   "metadata": {},
   "outputs": [],
   "source": [
    "X_train=Training_Data.iloc[:,0:120]\n",
    "y_train=Training_Data['Capacity'].values.reshape(-1,1)\n",
    "groups=Training_Data['Battery Number'].values.astype(int)\n",
    "C5_features=C5_25.iloc[:,0:120]\n",
    "C5_Capacity=C5_25['Capacity'].values\n",
    "C6_features=C6_25.iloc[:,0:120]\n",
    "C6_Capacity=C6_25['Capacity'].values\n",
    "C7_features=C7_25.iloc[:,0:120]\n",
    "C7_Capacity=C7_25['Capacity'].values\n",
    "C8_features=C8_25.iloc[:,0:120]\n",
    "C8_Capacity=C8_25['Capacity'].values"
   ]
  },
  {
   "cell_type": "code",
   "execution_count": 8,
   "metadata": {},
   "outputs": [
    {
     "ename": "NameError",
     "evalue": "name 'C5_25' is not defined",
     "output_type": "error",
     "traceback": [
      "\u001b[1;31m------------------------------------------------------------\u001b[0m",
      "\u001b[1;31mNameError\u001b[0m                  Traceback (most recent call last)",
      "Cell \u001b[1;32mIn[8], line 1\u001b[0m\n\u001b[1;32m----> 1\u001b[0m Testing_Data\u001b[38;5;241m=\u001b[39mpd\u001b[38;5;241m.\u001b[39mconcat([\u001b[43mC5_25\u001b[49m,C6_25,C7_25,C8_25],axis\u001b[38;5;241m=\u001b[39m\u001b[38;5;241m0\u001b[39m,ignore_index\u001b[38;5;241m=\u001b[39m\u001b[38;5;28;01mTrue\u001b[39;00m)\n",
      "\u001b[1;31mNameError\u001b[0m: name 'C5_25' is not defined"
     ]
    }
   ],
   "source": [
    "Testing_Data=pd.concat([C5_25,C6_25,C7_25,C8_25],axis=0,ignore_index=True)"
   ]
  },
  {
   "cell_type": "code",
   "execution_count": 9,
   "metadata": {},
   "outputs": [
    {
     "ename": "NameError",
     "evalue": "name 'C2_25' is not defined",
     "output_type": "error",
     "traceback": [
      "\u001b[1;31m------------------------------------------------------------\u001b[0m",
      "\u001b[1;31mNameError\u001b[0m                  Traceback (most recent call last)",
      "Cell \u001b[1;32mIn[9], line 1\u001b[0m\n\u001b[1;32m----> 1\u001b[0m New_Train\u001b[38;5;241m=\u001b[39mpd\u001b[38;5;241m.\u001b[39mconcat([\u001b[43mC2_25\u001b[49m,C3_25,C4_25],axis\u001b[38;5;241m=\u001b[39m\u001b[38;5;241m0\u001b[39m,ignore_index\u001b[38;5;241m=\u001b[39m\u001b[38;5;28;01mTrue\u001b[39;00m)\n\u001b[0;32m      2\u001b[0m X_new_train\u001b[38;5;241m=\u001b[39mNew_Train\u001b[38;5;241m.\u001b[39miloc[:,\u001b[38;5;241m0\u001b[39m:\u001b[38;5;241m120\u001b[39m]\n\u001b[0;32m      3\u001b[0m y_new_train\u001b[38;5;241m=\u001b[39mNew_Train[\u001b[38;5;124m'\u001b[39m\u001b[38;5;124mCapacity\u001b[39m\u001b[38;5;124m'\u001b[39m]\u001b[38;5;241m.\u001b[39mvalues\n",
      "\u001b[1;31mNameError\u001b[0m: name 'C2_25' is not defined"
     ]
    }
   ],
   "source": [
    "New_Train=pd.concat([C2_25,C3_25,C4_25],axis=0,ignore_index=True)\n",
    "X_new_train=New_Train.iloc[:,0:120]\n",
    "y_new_train=New_Train['Capacity'].values"
   ]
  },
  {
   "cell_type": "code",
   "execution_count": 10,
   "metadata": {},
   "outputs": [
    {
     "ename": "NameError",
     "evalue": "name 'Testing_Data' is not defined",
     "output_type": "error",
     "traceback": [
      "\u001b[1;31m------------------------------------------------------------\u001b[0m",
      "\u001b[1;31mNameError\u001b[0m                  Traceback (most recent call last)",
      "Cell \u001b[1;32mIn[10], line 1\u001b[0m\n\u001b[1;32m----> 1\u001b[0m X_test\u001b[38;5;241m=\u001b[39m\u001b[43mTesting_Data\u001b[49m\u001b[38;5;241m.\u001b[39miloc[:,\u001b[38;5;241m0\u001b[39m:\u001b[38;5;241m120\u001b[39m]\n\u001b[0;32m      2\u001b[0m y_test\u001b[38;5;241m=\u001b[39mTesting_Data[\u001b[38;5;124m'\u001b[39m\u001b[38;5;124mCapacity\u001b[39m\u001b[38;5;124m'\u001b[39m]\u001b[38;5;241m.\u001b[39mvalues\n",
      "\u001b[1;31mNameError\u001b[0m: name 'Testing_Data' is not defined"
     ]
    }
   ],
   "source": [
    "X_test=Testing_Data.iloc[:,0:120]\n",
    "y_test=Testing_Data['Capacity'].values"
   ]
  },
  {
   "cell_type": "code",
   "execution_count": 11,
   "metadata": {},
   "outputs": [
    {
     "data": {
      "text/plain": [
       "'\\nscaler_x=StandardScaler()\\nscaler_y=StandardScaler()\\n\\nX_train=scaler_x.fit_transform(X_train)\\ny_train=scaler_y.fit_transform(y_train)\\nX_test=scaler_x.transform(X_test)\\n'"
      ]
     },
     "execution_count": 11,
     "metadata": {},
     "output_type": "execute_result"
    }
   ],
   "source": [
    "'''\n",
    "scaler_x=StandardScaler()\n",
    "scaler_y=StandardScaler()\n",
    "\n",
    "X_train=scaler_x.fit_transform(X_train)\n",
    "y_train=scaler_y.fit_transform(y_train)\n",
    "X_test=scaler_x.transform(X_test)\n",
    "'''"
   ]
  },
  {
   "cell_type": "code",
   "execution_count": null,
   "metadata": {},
   "outputs": [],
   "source": []
  },
  {
   "cell_type": "markdown",
   "metadata": {},
   "source": [
    "# Gaussian Process Regression"
   ]
  },
  {
   "cell_type": "code",
   "execution_count": 12,
   "metadata": {},
   "outputs": [],
   "source": [
    "gp=GaussianProcessRegressor(alpha=100,kernel=5*RBF(),n_restarts_optimizer=5)"
   ]
  },
  {
   "cell_type": "code",
   "execution_count": 13,
   "metadata": {},
   "outputs": [
    {
     "ename": "NameError",
     "evalue": "name 'X_train' is not defined",
     "output_type": "error",
     "traceback": [
      "\u001b[1;31m------------------------------------------------------------\u001b[0m",
      "\u001b[1;31mNameError\u001b[0m                  Traceback (most recent call last)",
      "Cell \u001b[1;32mIn[13], line 1\u001b[0m\n\u001b[1;32m----> 1\u001b[0m gp\u001b[38;5;241m.\u001b[39mfit(\u001b[43mX_train\u001b[49m,y_train)\n",
      "\u001b[1;31mNameError\u001b[0m: name 'X_train' is not defined"
     ]
    }
   ],
   "source": [
    "gp.fit(X_train,y_train)"
   ]
  },
  {
   "cell_type": "code",
   "execution_count": 14,
   "metadata": {},
   "outputs": [
    {
     "ename": "NameError",
     "evalue": "name 'X_test' is not defined",
     "output_type": "error",
     "traceback": [
      "\u001b[1;31m------------------------------------------------------------\u001b[0m",
      "\u001b[1;31mNameError\u001b[0m                  Traceback (most recent call last)",
      "Cell \u001b[1;32mIn[14], line 1\u001b[0m\n\u001b[1;32m----> 1\u001b[0m y_pred\u001b[38;5;241m=\u001b[39mgp\u001b[38;5;241m.\u001b[39mpredict(\u001b[43mX_test\u001b[49m)\n\u001b[0;32m      2\u001b[0m \u001b[38;5;66;03m#y_pred=scaler_y.inverse_transform(y_pred)\u001b[39;00m\n\u001b[0;32m      3\u001b[0m pd\u001b[38;5;241m.\u001b[39mDataFrame([y_test,y_pred])\n",
      "\u001b[1;31mNameError\u001b[0m: name 'X_test' is not defined"
     ]
    }
   ],
   "source": [
    "y_pred=gp.predict(X_test)\n",
    "#y_pred=scaler_y.inverse_transform(y_pred)\n",
    "pd.DataFrame([y_test,y_pred])"
   ]
  },
  {
   "cell_type": "code",
   "execution_count": null,
   "metadata": {},
   "outputs": [],
   "source": []
  },
  {
   "cell_type": "code",
   "execution_count": 15,
   "metadata": {},
   "outputs": [
    {
     "ename": "NameError",
     "evalue": "name 'X_train' is not defined",
     "output_type": "error",
     "traceback": [
      "\u001b[1;31m------------------------------------------------------------\u001b[0m",
      "\u001b[1;31mNameError\u001b[0m                  Traceback (most recent call last)",
      "Cell \u001b[1;32mIn[15], line 1\u001b[0m\n\u001b[1;32m----> 1\u001b[0m testing_cells\u001b[38;5;241m=\u001b[39m[\u001b[43mX_train\u001b[49m,C5_features,C6_features,C7_features,C8_features]\n\u001b[0;32m      2\u001b[0m testing_caps\u001b[38;5;241m=\u001b[39m[y_train,C5_Capacity,C6_Capacity,C7_Capacity,C8_Capacity]\n\u001b[0;32m      5\u001b[0m \u001b[38;5;28;01mfor\u001b[39;00m i,j \u001b[38;5;129;01min\u001b[39;00m \u001b[38;5;28mzip\u001b[39m(testing_cells,testing_caps):\n",
      "\u001b[1;31mNameError\u001b[0m: name 'X_train' is not defined"
     ]
    }
   ],
   "source": [
    "testing_cells=[X_train,C5_features,C6_features,C7_features,C8_features]\n",
    "testing_caps=[y_train,C5_Capacity,C6_Capacity,C7_Capacity,C8_Capacity]\n",
    "\n",
    "\n",
    "for i,j in zip(testing_cells,testing_caps):\n",
    "    y_pred=gp.predict(i)\n",
    "    print(r2_score(j,y_pred))\n",
    "    print(np.sqrt(mean_squared_error(j,y_pred)))\n",
    "    plt.figure(figsize=(10,5))\n",
    "    plt.plot(j)\n",
    "    plt.plot(y_pred)"
   ]
  },
  {
   "cell_type": "code",
   "execution_count": null,
   "metadata": {},
   "outputs": [],
   "source": []
  },
  {
   "cell_type": "code",
   "execution_count": null,
   "metadata": {},
   "outputs": [],
   "source": []
  }
 ],
 "metadata": {
  "kernelspec": {
   "display_name": "Python 3 (ipykernel)",
   "language": "python",
   "name": "python3"
  },
  "language_info": {
   "codemirror_mode": {
    "name": "ipython",
    "version": 3
   },
   "file_extension": ".py",
   "mimetype": "text/x-python",
   "name": "python",
   "nbconvert_exporter": "python",
   "pygments_lexer": "ipython3",
   "version": "3.11.2"
  }
 },
 "nbformat": 4,
 "nbformat_minor": 4
}
