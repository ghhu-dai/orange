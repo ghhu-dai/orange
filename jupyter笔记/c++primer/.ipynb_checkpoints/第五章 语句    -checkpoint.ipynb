{
 "cells": [
  {
   "cell_type": "markdown",
   "id": "83cede3a",
   "metadata": {},
   "source": [
    "* 表达式语句的作用是执行表达式并丢弃掉求值结果，以分号结束\n",
    "\n",
    "* 一个块block`{}`就是一个作用域，不以分号结束\n",
    "* switch语句的内部控制流:如果某个case标签匹配成功，则从该标签开始执行后面的所有标签\n",
    "* while 循环语句适用的情况：1.不知道迭代的次数  2.想在循环结束时访问循环控制变量\n",
    "* for循环语句的多重定义\n",
    "```cpp\n",
    "for(init_statement;condition;express); \n",
    "// init_statement 可以定义多个对象，但只能有一个声明语句，即变量基础类型要相同,如：\n",
    "decltype(v.size()) i = 0,s2 = v.size();\n",
    "```\n",
    "* 范围for循环：\n",
    "```cpp\n",
    "for(declaration : expression){\n",
    "    statement;\n",
    "}\n",
    "// expression可以是vector，string，或{a,h,c}，要求其能返回迭代器的begin和end\n",
    "\n",
    "\n",
    "// 以下两个for循环是等价的\n",
    "for(auto & r:c) \n",
    "for(auto beg = c.begin(),end = c.end(); beg != end; ++beg)\n",
    "\n",
    "// 范围for循环是用迭代器来执行的，expression是vector时，不能改变其元素数量，因为这可能会使end函数变得无效\n",
    "```\n",
    "\n",
    "* 跳转语句：\n",
    "   1. `break` : 终止近处的while，dowhile，for，switch\n",
    "   2. `continue` ：终止循环中的当前迭代，开始下一次的迭代\n",
    "   3. `goto` ： 不建议使用\n",
    "   \n",
    "* try语句块和异常处理（包括检测和处理）\n",
    "   1. throw 表达式\n",
    "   2. try 语句块\n",
    "   3. 一套异常类\n",
    "   \n",
    "<font color = green>异常处理暂时跳过<font>"
   ]
  }
 ],
 "metadata": {
  "kernelspec": {
   "display_name": "Python 3 (ipykernel)",
   "language": "python",
   "name": "python3"
  },
  "language_info": {
   "codemirror_mode": {
    "name": "ipython",
    "version": 3
   },
   "file_extension": ".py",
   "mimetype": "text/x-python",
   "name": "python",
   "nbconvert_exporter": "python",
   "pygments_lexer": "ipython3",
   "version": "3.11.2"
  }
 },
 "nbformat": 4,
 "nbformat_minor": 5
}
