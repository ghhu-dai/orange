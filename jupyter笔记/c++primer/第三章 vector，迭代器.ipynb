{
 "cells": [
  {
   "cell_type": "markdown",
   "id": "30e13228",
   "metadata": {},
   "source": [
    "# 3.3 标准库类型 vector ， 对象的集合（引用不是对象）\n",
    "```cpp\n",
    "#include<vector>\n",
    "using std::vector;\n",
    "\n",
    "// 对于vector<vector<> >对象的老式声明，右边的>>之间要加空格\n",
    "```\n",
    "\n",
    "---\n",
    "\n",
    "## 3.3.1 定义和初始化`vector`对象\n",
    "```cpp\n",
    "vector<T> v1; // 执行默认初始化(内置类型的int,string初始化0和空)\n",
    "\n",
    "vector<T> v2(v1); // 拷贝初始化,等价于vector<T> v2 = v1;\n",
    "vector<T> v3(n,val); // 初始化为n个val\n",
    "vector<T> v4(n); // 初始化大小为n，值默认初始化\n",
    "\n",
    "vector<T> v5{a,b,c}; // 列表初始化，等价于 vector<T> v5 = {a,b,c}\n",
    "// 关于列表初始化，程序会尽可能的把{}内的值当成元素初始值的列表来处理\n",
    "// 但当提供的值不能用来初始化列表时，可能向下兼容当成（）来处理，如\n",
    "vector<string> v7{10}; //  vectoc<string> v7(10);\n",
    "vector<string>v8{10,\"hi\"}; // vector<string> v8(10,\"hi\");\n",
    "```\n",
    "---\n",
    "\n",
    "## 3.3.2  向`vector`对象中添加元素\n",
    "<font color=red>根据`vector`对象能高效增长的特性，先定义空容器再`push_back()`效率更高<font>\n",
    "    \n",
    "<font color = orange>? 如果循环体内包含有向`vector`对象添加元素的语句，则不能使用范围for循环 ? ，因为这会改变.end<font>\n",
    "    \n",
    "---\n",
    "    \n",
    "## 3.3.3其他`vector`操作\n",
    "* `v.size()`返回的类型是`vector`定义的`size_type`类型，下标也是，`vector<int>::size_type`\n",
    "* `vector`和`string` 对象的下标运算符只能访问已存在的元素，不能用来添加元素。\n",
    "* 确保下标合法的一种有效方法，就是采用范围for语句\n",
    "---\n",
    "    \n"
   ]
  },
  {
   "cell_type": "markdown",
   "id": "b8cdad44",
   "metadata": {},
   "source": [
    "# 3.4 迭代器介绍\n",
    "## 3.4.1标题忘了\n",
    "* `string`vector`等标准库容器都可以使用迭代器，\n",
    "* 有效迭代器指向某个元素或尾元素的下个位置\n",
    "* 如果容器为空，begin和end都返回指向尾后的迭代器\n",
    "* 解引用 如：`*iter`或`iter->`\n",
    "* 迭代器一般都支持的运算符：++  --  ==  !=  没有><（可爱，哈哈）\n",
    "* 在for循环中常用`iter != v.end`\n",
    "* `.cbegin``.cend`是两个const版本迭代器，返回的是`const_iterator`，只能用于访问元素值，不能用来修改元素值\n",
    "\n",
    "* <font color=red>vector迭代器失效的情况：vector容量改变<font>\n",
    "    \n",
    "    ***所以不能在范围for循环中更改容器元素***\n",
    "---\n",
    "## 3.4.2 迭代器运算\n",
    "***前提是迭代器有效，即：迭代器指向某个元素或尾元素的下个位置***\n",
    "    \n",
    "**所有标准库容器的迭代器都支持一般运算符，即：`++ -- != ==`,但对于string和vector提供了更多的运算符**\n",
    "```cpp\n",
    "iter +/- n // 前后移动若干个位置，结果迭代器仍有效\n",
    "iter1 - iter2 // 结果是它们之间的距离\n",
    "> , >= ,< ,<= //前面的迭代器小，后面的迭代器大\n",
    "```\n",
    "*使用迭代器的一个经典算法是二分算法*"
   ]
  },
  {
   "cell_type": "code",
   "execution_count": null,
   "id": "ec246e9f",
   "metadata": {},
   "outputs": [],
   "source": []
  }
 ],
 "metadata": {
  "kernelspec": {
   "display_name": "Python 3 (ipykernel)",
   "language": "python",
   "name": "python3"
  },
  "language_info": {
   "codemirror_mode": {
    "name": "ipython",
    "version": 3
   },
   "file_extension": ".py",
   "mimetype": "text/x-python",
   "name": "python",
   "nbconvert_exporter": "python",
   "pygments_lexer": "ipython3",
   "version": "3.11.2"
  }
 },
 "nbformat": 4,
 "nbformat_minor": 5
}
