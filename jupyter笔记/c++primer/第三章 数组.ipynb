{
 "cells": [
  {
   "cell_type": "markdown",
   "id": "2d449882",
   "metadata": {},
   "source": [
    "# 3.5数组\n",
    "* 与vector类似，通过位置访问，存储类型相同的对象\n",
    "* 与vector不同，数组大小固定，不能随意增加元素\n",
    "\n",
    "    ***若不清楚元素的确切个数，使用vector***\n",
    "---\n",
    "## 3.5.1 定义和初始化内置类型的数组\n",
    "* 数组的声明\n",
    "```cpp\n",
    "int a[d]; // a是数组名，d是数组维度（常量表达式）\n",
    "```\n",
    "* 当对数组进行列表初始化时，可以忽略维度\n",
    "```cpp\n",
    "int a2[] = {0,1,2}; // 自动推导数组维度大小为3\n",
    "int a3[5] = {0,1,2}; // 等价于 int a3[5] = {0,1,2,0,0};\n",
    "```\n",
    "* 字符数组的特殊性***当使用字符串字面值初始化字符数组时，注意空字符的存在***\n",
    "```cpp\n",
    "char a3[] = \"c++\"; // 自动添加空字符，'\\0',a3维度为4\n",
    "const char a4[6] = \"daniel\"; // 错误，a4有6位置，但\"daniel\"有7个元素\n",
    "```\n",
    "* 数组不允许拷贝和赋值\n",
    "```cpp\n",
    "int a2[] = a; // 错误\n",
    "a2 = a; // 错误\n",
    "```\n",
    "* 较复杂的声明（由内向外读）\n",
    "```cpp\n",
    "int *ptrs[10]; //ptrs 是含有10个整形指针的数组\n",
    "int (*ptr)[10] = &arr; // ptr是一个指针，指向一个含有10个整数的数组\n",
    "int （&arrRef)[10] = arr; // arrRef 是一个引用，引用一个含有10个整数的数组\n",
    "```"
   ]
  },
  {
   "cell_type": "code",
   "execution_count": null,
   "id": "201b0b2b",
   "metadata": {},
   "outputs": [],
   "source": []
  }
 ],
 "metadata": {
  "kernelspec": {
   "display_name": "Python 3 (ipykernel)",
   "language": "python",
   "name": "python3"
  },
  "language_info": {
   "codemirror_mode": {
    "name": "ipython",
    "version": 3
   },
   "file_extension": ".py",
   "mimetype": "text/x-python",
   "name": "python",
   "nbconvert_exporter": "python",
   "pygments_lexer": "ipython3",
   "version": "3.11.2"
  }
 },
 "nbformat": 4,
 "nbformat_minor": 5
}
