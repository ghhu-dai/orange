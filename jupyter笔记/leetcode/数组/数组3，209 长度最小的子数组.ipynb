{
 "cells": [
  {
   "cell_type": "markdown",
   "id": "2ffac031",
   "metadata": {},
   "source": [
    "# 209 长度最小的子数组\n",
    "***问题描述：***\n",
    "\n",
    "给定一个含有 n 个正整数的数组和一个正整数 target 。\n",
    "\n",
    "找出该数组中满足其和 ≥ target 的长度最小的 连续子数组 [numsl, numsl+1, ..., numsr-1, numsr] ，并返回其长度。如果不存在符合条件的子数组，返回 0 。\n",
    "\n",
    "***解法：滑动窗口***\n",
    "```cpp\n",
    "class Solution {\n",
    "public:\n",
    "    int minSubArrayLen(int target, vector<int>& nums) {\n",
    "        int result  = INT32_MAX;\n",
    "        int i = 0; // 窗口起始位置\n",
    "        int len = 0; // 窗口长度\n",
    "        int sums = 0; // 窗口总和\n",
    "\n",
    "        for(int j =0;j<nums.size();j++){\n",
    "            sums += nums[j]; // 配合i++实现窗口的滑动，避免不必要的操作 \n",
    "            while(sums>=target){\n",
    "                len = j-i+1;\n",
    "                result = result>len? len:result;\n",
    "                sums -= nums[i++];\n",
    "            }\n",
    "        }\n",
    "        return result == INT32_MAX? 0:result; // 如果result没有被赋值过，说明没有符合条件的子序列\n",
    "    }\n",
    "};\n",
    "```\n",
    "---\n",
    "时间复杂度：O(n)\n",
    "```cpp\n",
    "//不要以为for里放一个while就以为是O(n^2)啊， 主要是看每一个元素被操作的次数，每个元素在滑动窗后进来操作一次，出去操作一次，每个元素都是被操作两次，所以时间复杂度是 2 × n 也就是O(n)。\n",
    "```\n",
    "空间复杂度：o(1)"
   ]
  },
  {
   "cell_type": "markdown",
   "id": "23a91574",
   "metadata": {},
   "source": [
    "# 相关题目 904 76"
   ]
  }
 ],
 "metadata": {
  "kernelspec": {
   "display_name": "Python 3 (ipykernel)",
   "language": "python",
   "name": "python3"
  },
  "language_info": {
   "codemirror_mode": {
    "name": "ipython",
    "version": 3
   },
   "file_extension": ".py",
   "mimetype": "text/x-python",
   "name": "python",
   "nbconvert_exporter": "python",
   "pygments_lexer": "ipython3",
   "version": "3.11.2"
  }
 },
 "nbformat": 4,
 "nbformat_minor": 5
}
