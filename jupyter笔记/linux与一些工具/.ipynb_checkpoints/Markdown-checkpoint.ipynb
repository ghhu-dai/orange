{
 "cells": [
  {
   "cell_type": "markdown",
   "id": "56a1cf74",
   "metadata": {},
   "source": [
    "# 2023年4月18日20:16:23\n",
    "# Markdown笔记"
   ]
  },
  {
   "cell_type": "markdown",
   "id": "915e155d",
   "metadata": {},
   "source": [
    "# #一级标题\n",
    "## ##二级标题\n",
    "### ###三级标题（jupyter notebook只支持到三级标题）\n"
   ]
  },
  {
   "cell_type": "markdown",
   "id": "e56478a6",
   "metadata": {},
   "source": [
    "** **加粗** **"
   ]
  },
  {
   "cell_type": "markdown",
   "id": "d4a852ec",
   "metadata": {},
   "source": [
    "**斜体* *"
   ]
  },
  {
   "cell_type": "markdown",
   "id": "0d8e095a",
   "metadata": {},
   "source": [
    "*** ***斜体加粗*** ***"
   ]
  },
  {
   "cell_type": "markdown",
   "id": "7209032b",
   "metadata": {},
   "source": [
    "~~ ~~删除线~~ ~~"
   ]
  },
  {
   "cell_type": "markdown",
   "id": "0d505751",
   "metadata": {},
   "source": [
    "> (>引用)"
   ]
  },
  {
   "cell_type": "markdown",
   "id": "84042e64",
   "metadata": {},
   "source": [
    "分隔线---"
   ]
  },
  {
   "cell_type": "markdown",
   "id": "726dd5d3",
   "metadata": {},
   "source": [
    "---"
   ]
  },
  {
   "cell_type": "markdown",
   "id": "ede59232",
   "metadata": {},
   "source": [
    "![图片alt](图片地址 ''图片title'')"
   ]
  },
  {
   "cell_type": "markdown",
   "id": "3f3dc1ad",
   "metadata": {},
   "source": [
    "[`[百度](https://www.baidu.com/)`](https://www.baidu.com/)"
   ]
  },
  {
   "cell_type": "markdown",
   "id": "47987e4e",
   "metadata": {},
   "source": [
    "* 列表1（* 列表1，-列表1，+列表1）\n",
    "* 列表2\n",
    "* 列表3"
   ]
  },
  {
   "cell_type": "markdown",
   "id": "fa76fd00",
   "metadata": {},
   "source": [
    "1. 有序列表1（直接标数字，1.）\n",
    "2. 哈哈"
   ]
  },
  {
   "cell_type": "markdown",
   "id": "ad7d4feb",
   "metadata": {},
   "source": [
    "列表嵌套三个空格\n",
    "1. 这是1\n",
    "   1. 这是1.1（二级为止）\n",
    "      "
   ]
  },
  {
   "cell_type": "raw",
   "id": "370974de",
   "metadata": {},
   "source": [
    " 表格\n",
    " \n",
    " \n",
    " 表头|表头|表头\n",
    "---|:--:|---:\n",
    "内容|内容|内容\n",
    "内容|内容|内容\n",
    "\n",
    "第二行分割表头和内容。\n",
    "- 有一个就行，为了对齐，多加了几个\n",
    "文字默认居右\n",
    "-两边加：表示文字居中\n",
    "-右边加：表示文字居右"
   ]
  },
  {
   "cell_type": "markdown",
   "id": "d13fc982",
   "metadata": {},
   "source": [
    "哈哈|哈哈|哈哈\n",
    "-|:-:|-:\n",
    "A|A|A\n",
    "B|B|B\n",
    "C|C|C"
   ]
  },
  {
   "cell_type": "markdown",
   "id": "68b30ef5",
   "metadata": {},
   "source": [
    "  ( `` )\n",
    "\n",
    "`helloworld,单行代码`\n",
    "\n"
   ]
  },
  {
   "cell_type": "raw",
   "id": "5b65f566",
   "metadata": {},
   "source": [
    "多行代码\n",
    "\n",
    "\n",
    "``` python\n",
    "\n",
    "int i = 1;\n",
    "\n",
    "int b = 1;\n",
    "\n",
    "```"
   ]
  },
  {
   "cell_type": "markdown",
   "id": "3dbcddff",
   "metadata": {},
   "source": [
    "\n",
    "\n",
    "``` python\n",
    "int i = 1;\n",
    "int b = 1;\n",
    "\n",
    "```\n",
    "\n"
   ]
  },
  {
   "cell_type": "markdown",
   "id": "27787479",
   "metadata": {},
   "source": [
    "<font color = green>ok，这些内容够了(`<font color = green><font>`)<font>\n",
    "<font color = red >red<font>\n",
    "<font color = blue >blue<font>\n",
    "<font color = purple>purple<font>\n",
    "<font color = orange >prange<font>"
   ]
  }
 ],
 "metadata": {
  "kernelspec": {
   "display_name": "Python 3 (ipykernel)",
   "language": "python",
   "name": "python3"
  },
  "language_info": {
   "codemirror_mode": {
    "name": "ipython",
    "version": 3
   },
   "file_extension": ".py",
   "mimetype": "text/x-python",
   "name": "python",
   "nbconvert_exporter": "python",
   "pygments_lexer": "ipython3",
   "version": "3.11.2"
  }
 },
 "nbformat": 4,
 "nbformat_minor": 5
}
