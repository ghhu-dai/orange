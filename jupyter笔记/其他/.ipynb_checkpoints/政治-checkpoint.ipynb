{
 "cells": [
  {
   "cell_type": "markdown",
   "id": "80424ec7",
   "metadata": {},
   "source": [
    "1. 深刻认识世界正经历百年未有之大变局\n",
    "2. 中国特色社会主义进入新时代的基本内涵及其意义\n",
    "3. 习近平新时代中国特色社会主义思想创立了基本途径\n",
    "4. 为什么说中国特色社会主义是社会主义\n",
    "5. 习近平新时代中国特色社会主义十个明确的核心内容\n",
    "6. 习近平新时代中国特色社会主义思想所回答的重大时代课题"
   ]
  }
 ],
 "metadata": {
  "kernelspec": {
   "display_name": "Python 3 (ipykernel)",
   "language": "python",
   "name": "python3"
  },
  "language_info": {
   "codemirror_mode": {
    "name": "ipython",
    "version": 3
   },
   "file_extension": ".py",
   "mimetype": "text/x-python",
   "name": "python",
   "nbconvert_exporter": "python",
   "pygments_lexer": "ipython3",
   "version": "3.11.2"
  }
 },
 "nbformat": 4,
 "nbformat_minor": 5
}
