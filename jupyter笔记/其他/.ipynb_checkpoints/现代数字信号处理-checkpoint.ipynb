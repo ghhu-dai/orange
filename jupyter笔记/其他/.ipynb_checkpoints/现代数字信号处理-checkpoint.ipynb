{
 "cells": [
  {
   "cell_type": "markdown",
   "id": "a5416b1e",
   "metadata": {},
   "source": [
    "### 1.3 已知随机矢量x的均值为$m_x$,协方差为$\\Sigma_x$，估计值为$\\hat{x}$,估计误差为$e = x - \\hat{x}$,证明：若$E[e,e^T] = Ree = min$,则：$\\hat{x} = m_x $而$Ree = \\Sigma_x$\n",
    "\n",
    "<font color = blue>\n",
    "    \n",
    "证明如下：\n",
    "\n",
    "设：$\\hat{x} = m_x+a$,其中a为常量\n",
    "\n",
    "则：$E(ee^T) = R_{ee} = E[(x-m_x-a)(x-m_x-a)^T] = R_{xx}-m_xm_x^T+aa^T$\n",
    "\n",
    "要使：$R_{ee} = min$ 则 $aa^T = <a,a> = 0$ , 则 $a = 0$\n",
    "\n",
    "所以：$\\tilde{x} = m_x$且 $R_{ee} = Rxx-m_xm_x^T = cov(x,x) = \\Sigma_x$\n",
    "<font>\n",
    "    \n"
   ]
  },
  {
   "cell_type": "markdown",
   "id": "782b7ba0",
   "metadata": {},
   "source": [
    "### 1.8 $已知\\varepsilon = Ay，这里 \\varepsilon = [\\varepsilon_0 \\quad \\varepsilon_1 \\quad \\varepsilon_2 \\quad \\varepsilon_3 ]^T,y = [y_0 \\quad y_1 \\quad y_2 \\quad y_3 ],A = \\begin{bmatrix}\n",
    "1 & 0 & 0 & 0 \\\\\n",
    "a_{11} & 1 & 0 & 0 \\\\\n",
    "a_{22} & a_{21} & 1 & 0 \\\\\n",
    "a_{33} & a_{32} & a_31 & 1 \\\\\n",
    "\\end{bmatrix}\n",
    "求y_0与y_2之间的部分相关系数Y_2及y_0与y_3之间的部分相关系数Y_3\\\\\n",
    "解：\\\\\n",
    "设e_0,e_2,e_3分别为y_0，y_2，y_3 上的单位方向矢量，由正交分解定理，有:\\\\\n",
    "y_0 = e_0 + E[y_0y_1^T][y_1y_1^T]^{-1}y_1\\\\\n",
    "y_2 = e_2 + E[y_2y_1^T][y_1y_1^T]^{-1}y_1\\\\\n",
    "y_3 = e_3 + E[y_3y_1^T][y_1y_1^T]^{-1}y_1\\\\    \n",
    "由 \\varepsilon = Ay得\\\\\n",
    "\\begin{split}\n",
    "\\varepsilon_2 &= a_{22}y_0 + a_{21}y_1+y_2\\\\\n",
    " &= a_{22}e_0 + a_{22}E[y_0y_1^T][y_1y_1^T]^{-1}y_1+a_{21}y_1+e_2+E[y_2y_1^T][y_1y_1^T]^{-1}y_1\n",
    "\\end{split}\\\\\n",
    "\\because \\varepsilon_2 \\perp y_1 => \n",
    "$"
   ]
  }
 ],
 "metadata": {
  "kernelspec": {
   "display_name": "Python 3 (ipykernel)",
   "language": "python",
   "name": "python3"
  },
  "language_info": {
   "codemirror_mode": {
    "name": "ipython",
    "version": 3
   },
   "file_extension": ".py",
   "mimetype": "text/x-python",
   "name": "python",
   "nbconvert_exporter": "python",
   "pygments_lexer": "ipython3",
   "version": "3.11.2"
  }
 },
 "nbformat": 4,
 "nbformat_minor": 5
}
