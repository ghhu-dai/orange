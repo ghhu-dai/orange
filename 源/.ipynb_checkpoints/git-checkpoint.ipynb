{
 "cells": [
  {
   "cell_type": "markdown",
   "id": "fc285dea",
   "metadata": {},
   "source": [
    "# 常用操作\n",
    "## 拉取与配置\n",
    "* 从git服务器拉取代码`git clone https:……`\n",
    "* 配置开发者用户名和邮箱`git config user.name/user.email  ..`\n",
    "---\n",
    "## 分支相关\n",
    "* 创建一个`daily/0.0.0`的日常开发分支`git branch daily/0.0.0`\n",
    "* 重命名分支`git branch -m daily/0.0.0 daily/0.0.1`\n",
    "* 查看当前项目分支列表`git brancyh`\n",
    "* 删除`daily/0.0.1`分支`git branch -d daily/0.0.1`\n",
    "* 切换到`daily/0.0.1`分支`git checkout daily/0.0.1`\n",
    "\n",
    "---\n",
    "## 文件相关\n",
    "* 查看文件变动状态`git status`\n",
    "* 将文件添加到暂存区`git add 文件名`\n",
    "* 添加所有文件到暂存区`git add .`\n",
    "* 提交文件变动到版本库`git commid -m \"这里写提交描述\"`\n",
    "---\n",
    "## 远程相关\n",
    "* 将本地代码推送到服务器`git push origin daily/0.0.1`\n",
    "   * origin指代的是当前的git服务器地址（远程仓库地址）\n",
    "* 将服务器上的代码拉取到本地`git pull origin daily/0.0.1`\n",
    "* 查看版本提交记录`git log`\n",
    "* 为项目标记里程碑\n",
    "```\n",
    "git tag publis/0.0.1\n",
    "git push origin publish/0.0.1\n",
    "```\n",
    "\n",
    "* 利用配置文件`.gitignore`设置不需要推送到服务器的文件，`.gitignore`不是git命令，只是一个文件\n",
    "```c\n",
    "touch .gitignore\n",
    "// 如果.gitignore的文件内容如下：\n",
    "demo.html\n",
    "build/\n",
    "// 则说明Git将忽略demo.html文件和build/目录\n",
    "```"
   ]
  }
 ],
 "metadata": {
  "kernelspec": {
   "display_name": "Python 3 (ipykernel)",
   "language": "python",
   "name": "python3"
  },
  "language_info": {
   "codemirror_mode": {
    "name": "ipython",
    "version": 3
   },
   "file_extension": ".py",
   "mimetype": "text/x-python",
   "name": "python",
   "nbconvert_exporter": "python",
   "pygments_lexer": "ipython3",
   "version": "3.11.2"
  }
 },
 "nbformat": 4,
 "nbformat_minor": 5
}
