{
 "cells": [
  {
   "cell_type": "markdown",
   "id": "16ec3b8c",
   "metadata": {},
   "source": [
    "# linux相关操作\n",
    "## git相关：\n",
    "### 为git添加key\n",
    "1. 设置git的username和useremail\n",
    "```Git\n",
    "$ git config --global user.name \"dai_linux\"\n",
    "$ git consig --global user.email \"dai_linux.email\"\n",
    "```\n",
    "2. 生成密钥\n",
    "\n",
    "    `ssh-keygen -t rsa -C \"dai_linux.email\"`\n",
    "3. 复制公钥在github中添加即可"
   ]
  }
 ],
 "metadata": {
  "kernelspec": {
   "display_name": "Python 3 (ipykernel)",
   "language": "python",
   "name": "python3"
  },
  "language_info": {
   "codemirror_mode": {
    "name": "ipython",
    "version": 3
   },
   "file_extension": ".py",
   "mimetype": "text/x-python",
   "name": "python",
   "nbconvert_exporter": "python",
   "pygments_lexer": "ipython3",
   "version": "3.11.2"
  }
 },
 "nbformat": 4,
 "nbformat_minor": 5
}
